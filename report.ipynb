{
 "cells": [
  {
   "cell_type": "markdown",
   "id": "bed3e43c",
   "metadata": {
    "slideshow": {
     "slide_type": "slide"
    }
   },
   "source": [
    "# Impact of air travel on covid infection rates\n",
    "\n",
    "\n",
    "\n"
   ]
  },
  {
   "cell_type": "markdown",
   "id": "a72e29de",
   "metadata": {
    "slideshow": {
     "slide_type": "slide"
    },
    "tags": []
   },
   "source": [
    "## Introduction\n",
    "Our code consist of a two graphs and a animation where user inputs affect the results of the of covid spread around airports.\n",
    "The result of our graphs is an increases in cases of people in 5 different aiports over a inputted number of weeks.\n",
    "Our animation consist of markers representing planes moving randomly between the airports, resulting in colour changes dependant on the number of cases in that area. The animation uses the results from the graph but they do differ each time so if the two were printed at the same time they would give corresponding results."
   ]
  },
  {
   "cell_type": "markdown",
   "id": "04e5e8f9",
   "metadata": {},
   "source": [
    "## Our Method\n",
    "For the animation we decided to create it in python and store the final touches in python, this looked like:"
   ]
  },
  {
   "cell_type": "code",
   "execution_count": null,
   "id": "ef222161",
   "metadata": {
    "slideshow": {
     "slide_type": "slide"
    }
   },
   "outputs": [],
   "source": [
    "\n",
    "FFMpegWriter = manimation.writers['ffmpeg']\n",
    "metadata = dict(title='Movie Test', artist='Matplotlib',\n",
    "writer = FFMpegWriter(fps=60, metadata=metadata)\n",
    "with writer.saving(fig, \"Airport_travel_covid_simulation.mp4\", 100):\n"
   ]
  },
  {
   "cell_type": "markdown",
   "id": "9505beb4",
   "metadata": {},
   "source": [
    "This chunk of code is seperated in the file the ffmpegwriter uses a libary to run it gives it a title of movie test and lets the program know it is using 'matplot.lib'. The writer defines how the movie file is going to be exectued for example the fps is the speed of the program as higher frames per second results in a faster moving animation and smoother look. Finally with writer.saving saves the moviefile as 'Airport_travel_covid_simulation.mp4\".\n",
    "Our movie file then needed an animation for it to work:"
   ]
  },
  {
   "cell_type": "code",
   "execution_count": 4,
   "id": "393a7780",
   "metadata": {},
   "outputs": [
    {
     "name": "stdout",
     "output_type": "stream",
     "text": [
      "1.0 4.0\n"
     ]
    }
   ],
   "source": [
    "for i in range (0,len(populations)):\n",
    "            areas.append((populations[i]/popdensity[i])*100)\n",
    "            labels[names[i]] = f\"airport {i+1}\"     \n",
    "        for i in range (0,5):\n",
    "            g.add_node(names[i],pos=pos[i],)\n",
    "        g.add_edges_from([(\"B\",\"C\"),(\"A\",\"B\"),(\"C\",\"D\"),(\"D\",\"E\"),(\"B\",\"E\"),(\"A\",\"E\")])\n",
    "        g.add_edges_from([(\"D\",\"A\"),(\"C\",\"E\")])\n",
    "        pos=nx.get_node_attributes(g,'pos')\n",
    "        nx.draw(g,pos,node_size=areas,labels=labels,with_labels=(True),node_color=[node_colours[a],node_colours[b],node_colours[c],node_colours[d],node_colours[e]])  \n",
    "        red_circle1, = plt.plot([], [], 'ro', markersize = 15, linewidth = 50, label = (\"plane\"))\n"
   ]
  },
  {
   "cell_type": "markdown",
   "id": "95cb7cd5",
   "metadata": {
    "slideshow": {
     "slide_type": "slide"
    }
   },
   "source": [
    "We have then used preset data at the top of our code to create sizes for our nodes and edges of our graph (The graph representing aipoRt travel). We used a for loop to add the names and create 5 different positions. Then added edges(connections) from all of the aiports to one another. The size of the nodes is predetermined by our populations. We now have 5 nodes connected to one another. We then have a small animation of a red marker representing a plane move from airport to airport. 'ro' under red_circle represents that the markers are red circles."
   ]
  },
  {
   "cell_type": "markdown",
   "id": "f9c118dd",
   "metadata": {
    "slideshow": {
     "slide_type": "slide"
    }
   },
   "source": [
    "Initially we created variables that allow the user to input the proportion of the population that are infected in each country (PIx) at the start beginning of the model, the R value in each country (RVx), the rate of infection necessary to enforce a lockdown (PCL), the R value during a lockdown (RVL) and the number of weeks the graph will run over (weeks). \n",
    "\n",
    "We created a function called infection_proportion with the purpose of calculating the rates of infection for each country each week. The function loops through for each week, taking a value for the infection rate for each week for each country 'x' (inf_x). It then adds that to a list of infection rates taken each week which are then shown on the graph. We assumed that every person's infectiousness lasts a week, meaning that if they have covid one week, they will not have it when the proportion of infected people is calculated for the next week.\n",
    "\n",
    "The first part of the function checks the infection rate for week i to see if is greater than PCL, in which case the infection rate for week i is multiplied by RVL, otherwise it is multiplied by RVx, the normal R value for that country. "
   ]
  },
  {
   "cell_type": "code",
   "execution_count": 29,
   "id": "e1fa167f",
   "metadata": {
    "tags": []
   },
   "outputs": [
    {
     "name": "stdout",
     "output_type": "stream",
     "text": [
      "1.0 <class 'float'>\n"
     ]
    }
   ],
   "source": [
    "if PIA[i] > PCL:\n",
    "    # lockdown enforced\n",
    "    inf_A = (PIA[i] * RVL)\n",
    "else:\n",
    "    inf_A = (PIA[i] * RVA) "
   ]
  },
  {
   "cell_type": "markdown",
   "id": "2cd0eab3",
   "metadata": {
    "slideshow": {
     "slide_type": "slide"
    }
   },
   "source": [
    "To show the impact international travel can have on infection rates we added various variables that decide both the start and end point for the plane journeys, as well as the number of flights (between 2 and 5 a day) that occur between the countries in that week. When a flight between two countries occurs, the infection rate of the start country is multiplied by the number of people in a plane and then divided by the total population of its destination. It is then added to the infection rate of the destination country for that week. "
   ]
  },
  {
   "cell_type": "code",
   "execution_count": null,
   "id": "21a733d0",
   "metadata": {},
   "outputs": [
    {
     "name": "stdout",
     "output_type": "stream",
     "text": [
      "1.0 1\n"
     ]
    }
   ],
   "source": [
    "if start_point == 'A':\n",
    "    if end_point == 'B':\n",
    "        inf_B += PIA[i]*RVA*(plane_size/populations[1])\n",
    "    elif end_point == 'C':\n",
    "        inf_C += PIA[i]*RVA*(plane_size/populations[2])\n",
    "    elif end_point == 'D':\n",
    "        inf_D += PIA[i]*RVA*(plane_size/populations[3]) \n",
    "    elif end_point == 'E':\n",
    "        inf_E += PIA[i]*RVA*(plane_size/populations[4])"
   ]
  },
  {
   "cell_type": "markdown",
   "id": "e9539f12",
   "metadata": {
    "slideshow": {
     "slide_type": "slide"
    }
   },
   "source": [
    "To create the animation we created 5 functions that show the flight paths for the final week, where the vertices of the graph are airports and the edges are possible flight paths. Initially colours of the nodes are set based on the proportion of covid each country has at the beginning of the week, with 'a' being a variable which acts as the index in node_colours for country A."
   ]
  },
  {
   "cell_type": "code",
   "execution_count": 32,
   "id": "a6bcca29",
   "metadata": {},
   "outputs": [
    {
     "name": "stdout",
     "output_type": "stream",
     "text": [
      "12.568 m2\n"
     ]
    }
   ],
   "source": [
    "node_colours = ['#5cb200','#c6f808','#fdff38','#fc824a','#ec2d01']\n",
    "\n",
    "if PIA[weeks] == 0:\n",
    "        a = a\n",
    "    elif 0 <PIA[weeks]< 0.025:\n",
    "        a += 1\n",
    "    elif 0.025 < PIA[weeks]< 0.075:\n",
    "        a += 2 \n",
    "    elif 0.075 < PIA[weeks]< 0.125:\n",
    "        a += 3\n",
    "    elif 0.125 < PIA[weeks]< 0.175:\n",
    "        a += 4\n",
    "    nx.draw(g,pos,node_size=areas,labels=labels,with_labels=(False),node_color=[node_colours[a],node_colours[b],node_colours[c],node_colours[d],node_colours[e]])  \n",
    "    writer.grab_frame()"
   ]
  },
  {
   "cell_type": "markdown",
   "id": "ba70c435",
   "metadata": {
    "slideshow": {
     "slide_type": "slide"
    }
   },
   "source": [
    "We then have a node move from vertex to different, randomly chosen vertex by setting its position in a loop. If the random number chosen is the same as the current vertex, the function runs again from the start, otherwise, the next function is called and the process repeats for the next vertex. "
   ]
  },
  {
   "cell_type": "code",
   "execution_count": 36,
   "id": "792b4eea",
   "metadata": {
    "slideshow": {
     "slide_type": "slide"
    }
   },
   "outputs": [
    {
     "name": "stdout",
     "output_type": "stream",
     "text": [
      "4\n",
      "22\n"
     ]
    }
   ],
   "source": [
    " destination = r.randint(1,5)\n",
    "    if destination == 1: \n",
    "        flight1()\n",
    "    elif destination == 2:\n",
    "        for i in range(n):\n",
    "            red_circle1.set_data([0],[i])\n",
    "            writer.grab_frame()\n",
    "        for i in range(30):\n",
    "            writer.grab_frame()\n",
    "        flight2()\n",
    "    elif destination == 3:\n",
    "        for i in range(n):\n",
    "            red_circle1.set_data([i],[i])\n",
    "            writer.grab_frame()\n",
    "        for i in range(30):\n",
    "            writer.grab_frame()\n",
    "        flight3()\n",
    "    elif destination == 4:\n",
    "        for i in range(n):\n",
    "            red_circle1.set_data([i],[0])\n",
    "            writer.grab_frame()\n",
    "        for i in range(30):\n",
    "            writer.grab_frame()\n",
    "        flight4()\n",
    "    elif destination == 5:\n",
    "        for i in range(n):\n",
    "            red_circle1.set_data([i/2],[i/2])\n",
    "            writer.grab_frame()\n",
    "        for i in range(30):\n",
    "            writer.grab_frame()\n",
    "        flight5()\n",
    "    for i in range(30):\n",
    "        writer.grab_frame()\n",
    "            "
   ]
  },
  {
   "cell_type": "markdown",
   "id": "f0bf12fb",
   "metadata": {
    "slideshow": {
     "slide_type": "slide"
    }
   },
   "source": [
    "# Strings \n",
    "Strings behave differently to numerical data. \n",
    "\n",
    "We can return the Nth character(s) of a string with `string[N]`\n",
    "\n",
    "Characters are *indexed* with integer values, starting from 0"
   ]
  },
  {
   "cell_type": "code",
   "execution_count": 39,
   "id": "5b332ee2",
   "metadata": {},
   "outputs": [
    {
     "name": "stdout",
     "output_type": "stream",
     "text": [
      "llo\n",
      "llo\n",
      "llo\n"
     ]
    }
   ],
   "source": [
    "x = 'Hello'\n",
    "\n",
    "#print(x[0])   # first letter\n",
    "\n",
    "# print(x[4])   # last letter\n",
    "# print(x[-1])\n",
    "\n",
    "# print(x[0:3]) # first 3 letters (excludes 'stop value')\n",
    "# print(x[:3])\n",
    "\n",
    "# print(x[2:5])  # last three letters\n",
    "# print(x[2:])\n",
    "# print(x[-3:])\n",
    "\n"
   ]
  },
  {
   "cell_type": "markdown",
   "id": "c7546b2b",
   "metadata": {
    "slideshow": {
     "slide_type": "slide"
    }
   },
   "source": [
    "Notice the use of the `#` symbol to *comment* parts of the code \n",
    "\n",
    "(i.e. change which parts of the code are run)"
   ]
  },
  {
   "cell_type": "markdown",
   "id": "5c80f98a",
   "metadata": {
    "slideshow": {
     "slide_type": "slide"
    }
   },
   "source": [
    "# In-class Demos"
   ]
  },
  {
   "cell_type": "markdown",
   "id": "4dbf3154",
   "metadata": {
    "slideshow": {
     "slide_type": "slide"
    }
   },
   "source": [
    "__Example 1:__ Find the volume of a cone.\n",
    "\n",
    "Base radius = 2 cm\n",
    "<br> Height = 10 cm\n",
    "\n",
    "Volume of a cone: $V = \\frac{Ah}{3}$  <br>where $A=$ base area, $h=$ height of the cone \n",
    "<img src=\"img/cone.png\" alt=\"Drawing\" style=\"width: 200px;\"/>"
   ]
  },
  {
   "cell_type": "code",
   "execution_count": null,
   "id": "e4e05005",
   "metadata": {},
   "outputs": [],
   "source": []
  },
  {
   "cell_type": "markdown",
   "id": "b1ec0683",
   "metadata": {
    "slideshow": {
     "slide_type": "slide"
    }
   },
   "source": [
    "__Example 2:__ Create a variable `Name` and assign it a `string` value. \n",
    "\n",
    "Use an arithmetic operator and `Name` to print the output: `My name is` followed by the value of `Name`. e.g.\n",
    "\n",
    "\n",
    "    My name is Hemma\n"
   ]
  },
  {
   "cell_type": "code",
   "execution_count": 40,
   "id": "01935b36",
   "metadata": {},
   "outputs": [
    {
     "name": "stdout",
     "output_type": "stream",
     "text": [
      "My name is Hemma\n"
     ]
    }
   ],
   "source": [
    "Name = 'Hemma'\n",
    "\n",
    "output = 'My name is ' + Name \n",
    "\n",
    "print(output)"
   ]
  },
  {
   "cell_type": "markdown",
   "id": "69988b32",
   "metadata": {
    "slideshow": {
     "slide_type": "slide"
    }
   },
   "source": [
    "When you complete the in-class exercises today you can choose to:\n",
    "- save your answers to each exercise as separate .py (Python) files\n",
    "- *comment out* some of your code to allow you to store it all in one file, but only run certain (*uncommented*) blocks of code  "
   ]
  }
 ],
 "metadata": {
  "celltoolbar": "Slideshow",
  "kernelspec": {
   "display_name": "Python 3 (ipykernel)",
   "language": "python",
   "name": "python3"
  },
  "language_info": {
   "codemirror_mode": {
    "name": "ipython",
    "version": 3
   },
   "file_extension": ".py",
   "mimetype": "text/x-python",
   "name": "python",
   "nbconvert_exporter": "python",
   "pygments_lexer": "ipython3",
   "version": "3.9.7"
  }
 },
 "nbformat": 4,
 "nbformat_minor": 5
}
