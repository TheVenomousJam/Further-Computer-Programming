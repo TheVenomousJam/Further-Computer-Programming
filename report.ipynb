{
 "cells": [
  {
   "cell_type": "markdown",
   "id": "bed3e43c",
   "metadata": {
    "slideshow": {
     "slide_type": "slide"
    }
   },
   "source": [
    "# Impact of air travel on covid infection rates\n",
    "\n",
    "\n",
    "\n"
   ]
  },
  {
   "cell_type": "markdown",
   "id": "a72e29de",
   "metadata": {
    "slideshow": {
     "slide_type": "slide"
    },
    "tags": []
   },
   "source": [
    "## Introduction\n",
    "Our code consist of a two graphs and a animation where user inputs affect the results of the of covid spread around airports.\n",
    "The result of our graphs is an increases in cases of people in 5 different aiports over a inputted number of weeks.\n",
    "Our animation consist of markers representing planes moving randomly between the airports, resulting in colour changes dependant on the number of cases in that area. The animation uses the results from the graph but they do differ each time so if the two were printed at the same time they would give corresponding results."
   ]
  },
  {
   "cell_type": "markdown",
   "id": "04e5e8f9",
   "metadata": {},
   "source": [
    "## Our Method\n",
    "For the animation we decided to create it in python and store the final touches in python, this looked like:"
   ]
  },
  {
   "cell_type": "code",
   "execution_count": null,
   "id": "1a81b8bc",
   "metadata": {
    "slideshow": {
     "slide_type": "slide"
    }
   },
   "outputs": [],
   "source": [
    "\n",
    "FFMpegWriter = manimation.writers['ffmpeg']\n",
    "metadata = dict(title='Movie Test', artist='Matplotlib',\n",
    "writer = FFMpegWriter(fps=60, metadata=metadata)\n",
    "with writer.saving(fig, \"Airport_travel_covid_simulation.mp4\", 100):\n"
   ]
  },
  {
   "cell_type": "markdown",
   "id": "9505beb4",
   "metadata": {},
   "source": [
    "This chunk of code is seperated in the file the ffmpegwriter uses a libary to run it gives it a title of movie test and lets the program know it is using 'matplot.lib'. The writer defines how the movie file is going to be exectued for example the fps is the speed of the program as higher frames per second results in a faster moving animation and smoother look. Finally with writer.saving saves the moviefile as 'Airport_travel_covid_simulation.mp4\".\n",
    "Our movie file then needed an animation for it to work:"
   ]
  },
  {
   "cell_type": "code",
   "execution_count": null,
   "id": "5a747bce",
   "metadata": {},
   "outputs": [],
   "source": [
    "for i in range (0,len(populations)):\n",
    "            areas.append((populations[i]/popdensity[i])*100)\n",
    "            labels[names[i]] = f\"airport {i+1}\"     \n",
    "        for i in range (0,5):\n",
    "            g.add_node(names[i],pos=pos[i],)\n",
    "        g.add_edges_from([(\"B\",\"C\"),(\"A\",\"B\"),(\"C\",\"D\"),(\"D\",\"E\"),(\"B\",\"E\"),(\"A\",\"E\")])\n",
    "        g.add_edges_from([(\"D\",\"A\"),(\"C\",\"E\")])\n",
    "        pos=nx.get_node_attributes(g,'pos')\n",
    "        nx.draw(g,pos,node_size=areas,labels=labels,with_labels=(True),node_color=[node_colours[a],node_colours[b],node_colours[c],node_colours[d],node_colours[e]])  \n",
    "        red_circle1, = plt.plot([], [], 'ro', markersize = 15, linewidth = 50, label = (\"plane\"))\n"
   ]
  },
  {
   "cell_type": "markdown",
   "id": "95cb7cd5",
   "metadata": {
    "slideshow": {
     "slide_type": "slide"
    }
   },
   "source": [
    "We have then used preset data at the top of our code to create sizes for our nodes and edges of our graph (The graph representing aipoRt travel). We used a for loop to add the names and create 5 different positions. Then added edges(connections) from all of the aiports to one another. The size of the nodes is predetermined by our populations. We now have 5 nodes connected to one another. We then have a small animation of a red marker representing a plane move from airport to airport. 'ro' under red_circle represents that the markers are red circles."
   ]
  },
  {
   "cell_type": "markdown",
   "id": "f9c118dd",
   "metadata": {
    "slideshow": {
     "slide_type": "slide"
    }
   },
   "source": [
    "Initially we created variables that allow the user to input the proportion of the population that are infected in each country (PIx) at the start beginning of the model, the R value in each country (RVx), the rate of infection necessary to enforce a lockdown (PCL), the R value during a lockdown (RVL) and the number of weeks the graph will run over (weeks). \n",
    "\n",
    "We created a function called infection_proportion with the purpose of calculating the rates of infection for each country each week. The function loops through for each week, taking a value for the infection rate for each week for each country 'x' (inf_x). It then adds that to a list of infection rates taken each week which are then shown on the graph. We assumed that every person's infectiousness lasts a week, meaning that if they have covid one week, they will not have it when the proportion of infected people is calculated for the next week.\n",
    "\n",
    "The first part of the function checks the infection rate for week i to see if is greater than PCL, in which case the infection rate for week i is multiplied by RVL, otherwise it is multiplied by RVx, the normal R value for that country. "
   ]
  },
  {
   "cell_type": "code",
   "execution_count": null,
   "id": "aab45bf6",
   "metadata": {
    "tags": []
   },
   "outputs": [],
   "source": [
    "if PIA[i] > PCL:\n",
    "    # lockdown enforced\n",
    "    inf_A = (PIA[i] * RVL)\n",
    "else:\n",
    "    inf_A = (PIA[i] * RVA) "
   ]
  },
  {
   "cell_type": "markdown",
   "id": "2cd0eab3",
   "metadata": {
    "slideshow": {
     "slide_type": "slide"
    }
   },
   "source": [
    "To show the impact international travel can have on infection rates we added various variables that decide both the start and end point for the plane journeys, as well as the number of flights (between 2 and 5 a day) that occur between the countries in that week. When a flight between two countries occurs, the infection rate of the start country is multiplied by the number of people in a plane and then divided by the total population of its destination. It is then added to the infection rate of the destination country for that week. "
   ]
  },
  {
   "cell_type": "code",
   "execution_count": null,
   "id": "a92ad899",
   "metadata": {},
   "outputs": [],
   "source": [
    "if start_point == 'A':\n",
    "    if end_point == 'B':\n",
    "        inf_B += PIA[i]*RVA*(plane_size/populations[1])\n",
    "    elif end_point == 'C':\n",
    "        inf_C += PIA[i]*RVA*(plane_size/populations[2])\n",
    "    elif end_point == 'D':\n",
    "        inf_D += PIA[i]*RVA*(plane_size/populations[3]) \n",
    "    elif end_point == 'E':\n",
    "        inf_E += PIA[i]*RVA*(plane_size/populations[4])"
   ]
  },
  {
   "cell_type": "markdown",
   "id": "e9539f12",
   "metadata": {
    "slideshow": {
     "slide_type": "slide"
    }
   },
   "source": [
    "To create the animation we created 5 functions that show the flight paths for the final week, where the vertices of the graph are airports and the edges are possible flight paths. Initially colours of the nodes are set based on the proportion of covid each country has at the beginning of the week, with 'a' being a variable which acts as the index in node_colours for country A."
   ]
  },
  {
   "cell_type": "code",
   "execution_count": null,
   "id": "9319c749",
   "metadata": {},
   "outputs": [],
   "source": [
    "node_colours = ['#5cb200','#c6f808','#fdff38','#fc824a','#ec2d01']\n",
    "\n",
    "if PIA[weeks] == 0:\n",
    "        a = a\n",
    "    elif 0 <PIA[weeks]< 0.025:\n",
    "        a += 1\n",
    "    elif 0.025 < PIA[weeks]< 0.075:\n",
    "        a += 2 \n",
    "    elif 0.075 < PIA[weeks]< 0.125:\n",
    "        a += 3\n",
    "    elif 0.125 < PIA[weeks]< 0.175:\n",
    "        a += 4\n",
    "    nx.draw(g,pos,node_size=areas,labels=labels,with_labels=(False),node_color=[node_colours[a],node_colours[b],node_colours[c],node_colours[d],node_colours[e]])  \n",
    "    writer.grab_frame()"
   ]
  },
  {
   "cell_type": "markdown",
   "id": "ba70c435",
   "metadata": {
    "slideshow": {
     "slide_type": "slide"
    }
   },
   "source": [
    "We then have a node move from vertex to different, randomly chosen vertex by setting its position in a loop. If the random number chosen is the same as the current vertex, the function runs again from the start, otherwise, the next function is called and the process repeats for the next vertex. "
   ]
  },
  {
   "cell_type": "code",
   "execution_count": null,
   "id": "8b69e14f",
   "metadata": {
    "slideshow": {
     "slide_type": "slide"
    }
   },
   "outputs": [],
   "source": [
    " destination = r.randint(1,5)\n",
    "    if destination == 1: \n",
    "        flight1()\n",
    "    elif destination == 2:\n",
    "        for i in range(n):\n",
    "            red_circle1.set_data([0],[i])\n",
    "            writer.grab_frame()\n",
    "        for i in range(30):\n",
    "            writer.grab_frame()\n",
    "        flight2()\n",
    "    elif destination == 3:\n",
    "        for i in range(n):\n",
    "            red_circle1.set_data([i],[i])\n",
    "            writer.grab_frame()\n",
    "        for i in range(30):\n",
    "            writer.grab_frame()\n",
    "        flight3()\n",
    "    elif destination == 4:\n",
    "        for i in range(n):\n",
    "            red_circle1.set_data([i],[0])\n",
    "            writer.grab_frame()\n",
    "        for i in range(30):\n",
    "            writer.grab_frame()\n",
    "        flight4()\n",
    "    elif destination == 5:\n",
    "        for i in range(n):\n",
    "            red_circle1.set_data([i/2],[i/2])\n",
    "            writer.grab_frame()\n",
    "        for i in range(30):\n",
    "            writer.grab_frame()\n",
    "        flight5()\n",
    "    for i in range(30):\n",
    "        writer.grab_frame()\n",
    "            "
   ]
  },
  {
   "cell_type": "markdown",
   "id": "b50ccb93",
   "metadata": {},
   "source": [
    "Our final edit to the code was turning the static graph into a movie file. This was just another way of displaying the data that we had."
   ]
  },
  {
   "cell_type": "code",
   "execution_count": null,
   "id": "1da3f992",
   "metadata": {},
   "outputs": [],
   "source": [
    "for z in range(weeks):\n",
    "    plot1 = plt.figure(1)\n",
    "    plt.plot(week[z:z+2],PIA[z:z+2])\n",
    "    writer.grab_frame()\n",
    "    plt.plot(week[z:z+2],PIB[z:z+2])\n",
    "    writer.grab_frame()\n",
    "    plt.plot(week[z:z+2],PIC[z:z+2])\n",
    "    writer.grab_frame()\n",
    "    plt.plot(week[z:z+2],PID[z:z+2])\n",
    "    writer.grab_frame()\n",
    "    plt.plot(week[z:z+2],PIE[z:z+2])\n",
    "    plt.legend(airports)\n",
    "    writer.grab_frame("
   ]
  },
  {
   "cell_type": "markdown",
   "id": "4e2cb7ec",
   "metadata": {},
   "source": [
    "The 'z:z+2' is the only way to get all the plots into the movie file. If it was just looped through the plots dont show in the movie file. So it needs to plot 3 plots at a time for each time it runs through the loop. The 'writer.grabframe()' can be changed to the end to make every plot be shown at once in the movie."
   ]
  },
  {
   "cell_type": "markdown",
   "id": "f0bf12fb",
   "metadata": {
    "slideshow": {
     "slide_type": "slide"
    }
   },
   "source": [
    "# Zoomed in Covid Simulation\n",
    "\n",
    "The AirPort_CovidSim.py file is the main bulk of code for simulating the spread of covid in each individual country \n",
    "that the airports are placed in. Each airport is made into a function so it can be called in the main file and graphed there.\n",
    "Each place has a population 10x bigger than that of the airport to give a more realisitic view of the country.\n",
    "The code could be changed to increase the size of the population even more or you could decrease the size of the\n",
    "populations to make it more community based data.\n",
    "\n",
    "The overall outcome of the code is to simulate the spread\n",
    "of covid through different populations. Each country has the same lockdowns on the same days to really emphasise how a larger \n",
    "population will see larger spikes regardless of the lockdowns. The simulation assumes that once a person has had covid,\n",
    "they become immune and they have a chance of being immune before the simulation starts. It is also assumed that during \n",
    "each lockdown, no person will come into contact with another person. \n",
    "\n",
    "The simulation will give a different output each time as it runs using the idea that each person has a chance of already \n",
    "being immune to covid, and a guassion distributuion is used to determine the number of friends each person will have."
   ]
  },
  {
   "cell_type": "code",
   "execution_count": null,
   "id": "fc672761",
   "metadata": {},
   "outputs": [],
   "source": [
    "class Person():\n",
    "        def __init__(self, startingImmunity):\n",
    "            if random.randint(0,100)<startingImmunity:\n",
    "                self.immunity = True\n",
    "            else:\n",
    "                self.immunity = False\n",
    "            self.contagiousness = 0\n",
    "            self.contagiousDays = 0\n",
    "            self.friends = int((norm.rvs(size=1,loc=0.5,scale=0.15)[0]*10).round(0))\n"
   ]
  },
  {
   "cell_type": "markdown",
   "id": "c7546b2b",
   "metadata": {
    "slideshow": {
     "slide_type": "slide"
    }
   },
   "source": [
    "Further into the code, the friends asspect is developed more, saying that for each person they will have a different number\n",
    "friends, and for that number of friends they can only meet up to half of those friends in one day."
   ]
  },
  {
   "cell_type": "code",
   "execution_count": null,
   "id": "7c4eab10",
   "metadata": {
    "slideshow": {
     "slide_type": "slide"
    }
   },
   "outputs": [],
   "source": [
    "for person in [person for person in peopleDictionary if person.contagiousness>0 and person.friends>0]:\n",
    "            peopleCouldMeetToday = int(person.friends/2)\n",
    "            if peopleCouldMeetToday > 0:\n",
    "                peopleMetToday = random.randint(0,peopleCouldMeetToday)\n",
    "            else:\n",
    "                peopleMetToday = 0 "
   ]
  },
  {
   "cell_type": "markdown",
   "id": "5e5d60cb",
   "metadata": {},
   "source": [
    "The next step of the code is to determine who is contagious, and if the person is contagious, how many people does\n",
    "the individual infect. It uses the basic principle that if the individuals contagiousness level is greater than 0\n",
    "then they have the possibility to infect the number of friends they meet on that day. However, this is also impacted\n",
    "by the fact that some of those friends could already be immune to the disease."
   ]
  },
  {
   "cell_type": "code",
   "execution_count": null,
   "id": "c3bcaccb",
   "metadata": {},
   "outputs": [],
   "source": [
    "for x in range(0,peopleMetToday):\n",
    "                friendInQuestion = peopleDictionary[random.randint(0,len(peopleDictionary)-1)]\n",
    "                if random.randint(0,100)<person.contagiousness and friendInQuestion.contagiousness == 0 and friendInQuestion.immunity==False:\n",
    "                    friendInQuestion.contagiousness = int((norm.rvs(size=1,loc=0.5,scale=0.15)[0]*10).round(0)*10)"
   ]
  },
  {
   "cell_type": "markdown",
   "id": "b1ec0683",
   "metadata": {
    "slideshow": {
     "slide_type": "slide"
    }
   },
   "source": [
    "The simulation runs for 100 days and has lockdowns implimented at different points to slow the spread of covid.\n",
    "Each day, the number of people infected is recorded and written to a text file to be used later in the code."
   ]
  },
  {
   "cell_type": "code",
   "execution_count": null,
   "id": "6998f66d",
   "metadata": {},
   "outputs": [],
   "source": [
    "print(\"DAY \", x)\n",
    "CovidSpread(daysContagious,lockdown)\n",
    "coviddata_AP1 = open(\"coviddata_AP1.txt\", \"a\")\n",
    "write = str(len([person for person in peopleDictionary if person.contagiousness>0])) + \"\\n\"\n",
    "coviddata_AP1.write(write)\n",
    "print(len([person for person in peopleDictionary if person.contagiousness>0]), \" people are contagious on this day.\")\n",
    "    \n",
    "coviddata_AP1.close()"
   ]
  },
  {
   "cell_type": "markdown",
   "id": "69988b32",
   "metadata": {
    "slideshow": {
     "slide_type": "slide"
    }
   },
   "source": [
    "#  Creating the graph\n",
    "\n",
    "Next we move to Airport_CovidSim_graphs.py where the 5 functions are called to run the simulation in each country.\n",
    "All data is printed to the terminal and saved to the individual text files. Once in Airport_CovidSim_graphs.py,\n",
    "the text files are opened and formated into numpy arrays. From this the data is plotted onto a graph showing the\n",
    "spread of covid over the 100 days."
   ]
  },
  {
   "cell_type": "code",
   "execution_count": null,
   "id": "bd0abe82",
   "metadata": {},
   "outputs": [],
   "source": [
    "contagious1 = np.genfromtxt('coviddata_AP1.txt')\n",
    "contagious2 = np.genfromtxt('coviddata_AP2.txt')\n",
    "contagious3 = np.genfromtxt('coviddata_AP3.txt')\n",
    "contagious4 = np.genfromtxt('coviddata_AP4.txt')\n",
    "contagious5 = np.genfromtxt('coviddata_AP5.txt')\n",
    "\n",
    "plt.plot(contagious1, color='red', label = 'Airport1')\n",
    "plt.plot(contagious2, color='orange', label = 'Airport2')\n",
    "plt.plot(contagious3, color='yellow', label = 'Airport3')\n",
    "plt.plot(contagious4, color='green', label = 'Airport4')\n",
    "plt.plot(contagious5, color='blue', label = 'Airport5')\n",
    "plt.legend()\n",
    "plt.show()"
   ]
  },
  {
   "cell_type": "markdown",
   "id": "aa88f89f",
   "metadata": {},
   "source": [
    "Finally, all data in the text files is errased to allow the code to run again and get a different output."
   ]
  }
 ],
 "metadata": {
  "celltoolbar": "Slideshow",
  "kernelspec": {
   "display_name": "Python 3 (ipykernel)",
   "language": "python",
   "name": "python3"
  },
  "language_info": {
   "codemirror_mode": {
    "name": "ipython",
    "version": 3
   },
   "file_extension": ".py",
   "mimetype": "text/x-python",
   "name": "python",
   "nbconvert_exporter": "python",
   "pygments_lexer": "ipython3",
   "version": "3.9.7"
  }
 },
 "nbformat": 4,
 "nbformat_minor": 5
}
